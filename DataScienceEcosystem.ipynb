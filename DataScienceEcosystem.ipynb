{
 "cells": [
  {
   "cell_type": "markdown",
   "id": "026bc320-42ca-4ec8-863f-9d40418b04d5",
   "metadata": {},
   "source": [
    "# Data Science Tools and Ecosystem"
   ]
  },
  {
   "cell_type": "markdown",
   "id": "e47d25ec-1e7a-4ed0-8010-f0afb0ba07e5",
   "metadata": {},
   "source": [
    "## Author \n",
    "Boussard Lucas"
   ]
  },
  {
   "cell_type": "markdown",
   "id": "9a6873f7-162e-49c7-a0a6-4ce3f5a5c267",
   "metadata": {},
   "source": [
    "In this notebook, Data Science Tools and Ecosystem are summarized."
   ]
  },
  {
   "cell_type": "markdown",
   "id": "2ae3585a-bf1d-483b-9e50-c62239adc455",
   "metadata": {},
   "source": [
    "<b>Objectives </b>\n",
    "- List popular languages for Data Science\n",
    "- List common libraries for Data Science\n",
    "- Change hours in minutes"
   ]
  },
  {
   "cell_type": "markdown",
   "id": "91531f80-e78b-4ff9-b206-a6e859b5bcaa",
   "metadata": {},
   "source": [
    "Some of the commonly used libraries used by Data Scientists include: Python, R and SQL."
   ]
  },
  {
   "cell_type": "markdown",
   "id": "247b2cb3-4916-45bb-aa16-0ef83b0345ff",
   "metadata": {},
   "source": [
    "Some of the commonly used libraries used by Data Scientists include: NumPy, Pandas, Scikit-Learn. "
   ]
  },
  {
   "cell_type": "markdown",
   "id": "5da1a851-e302-451b-ab76-5eda9c3732d3",
   "metadata": {},
   "source": [
    "| **Tools**         |\n",
    "|------------------------|\n",
    "| Jupyter Notebook  | \n",
    "| R Studio   | \n",
    "| VS Code    |"
   ]
  },
  {
   "cell_type": "markdown",
   "id": "e5ba0823-b5ee-4135-8efa-9045edfd00ea",
   "metadata": {},
   "source": [
    "### Below are a few examples of evaluating arithmetic expressions in Python"
   ]
  },
  {
   "cell_type": "code",
   "execution_count": 16,
   "id": "87924f5a-4555-4497-9b7e-b9ded6be821b",
   "metadata": {},
   "outputs": [
    {
     "data": {
      "text/plain": [
       "17"
      ]
     },
     "execution_count": 16,
     "metadata": {},
     "output_type": "execute_result"
    }
   ],
   "source": [
    "# This a simple arithmetic expression to mutiply then add integers.\n",
    "(3*4)+5"
   ]
  },
  {
   "cell_type": "code",
   "execution_count": 19,
   "id": "286fc44a-1e0e-4a2e-80cd-8de4c342d7af",
   "metadata": {},
   "outputs": [
    {
     "name": "stdout",
     "output_type": "stream",
     "text": [
      "3.3333333333333335\n"
     ]
    }
   ],
   "source": [
    "# This will convert 200 minutes to hours by diving by 60\n",
    "x = 200\n",
    "y = x / 60\n",
    "print(y)"
   ]
  },
  {
   "cell_type": "code",
   "execution_count": null,
   "id": "39329fa3-b5fb-49b7-8764-21c3bdcf4c71",
   "metadata": {},
   "outputs": [],
   "source": []
  }
 ],
 "metadata": {
  "kernelspec": {
   "display_name": "Python 3 (ipykernel)",
   "language": "python",
   "name": "python3"
  },
  "language_info": {
   "codemirror_mode": {
    "name": "ipython",
    "version": 3
   },
   "file_extension": ".py",
   "mimetype": "text/x-python",
   "name": "python",
   "nbconvert_exporter": "python",
   "pygments_lexer": "ipython3",
   "version": "3.12.7"
  }
 },
 "nbformat": 4,
 "nbformat_minor": 5
}
